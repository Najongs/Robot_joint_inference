{
 "cells": [
  {
   "cell_type": "code",
   "execution_count": 27,
   "metadata": {},
   "outputs": [
    {
     "name": "stdout",
     "output_type": "stream",
     "text": [
      "DONE\n"
     ]
    }
   ],
   "source": [
    "import os\n",
    "import json\n",
    "import math\n",
    "import numpy as np\n",
    "\n",
    "def get_transformation_matrix(fr5_dh_parameters, theta):\n",
    "    a = fr5_dh_parameters['a']\n",
    "    d = fr5_dh_parameters['d']\n",
    "    alpha = math.radians(fr5_dh_parameters['alpha'])\n",
    "    theta = math.radians(fr5_dh_parameters['theta'] + theta)\n",
    "    \n",
    "    return np.array([\n",
    "        [np.cos(theta), -np.sin(theta) * np.cos(alpha), np.sin(theta) * np.sin(alpha), a * np.cos(theta)],\n",
    "        [np.sin(theta), np.cos(theta) * np.cos(alpha), -np.cos(theta) * np.sin(alpha), a * np.sin(theta)],\n",
    "        [0, np.sin(alpha), np.cos(alpha), d],\n",
    "        [0, 0, 0, 1]\n",
    "    ])\n",
    "\n",
    "angle_path = '/home/najo/NAS/DIP/datasets/FR5_model/angle'\n",
    "save_path = '/home/najo/NAS/DIP/datasets/FR5_model/joint'\n",
    "angle_file = [f for f in os.listdir(angle_path) if f.endswith('.json')]\n",
    "\n",
    "fr5_dh_parameters = [\n",
    "    {'alpha': 90, 'a': 0, 'd': 0.152, 'theta': 0},\n",
    "    {'alpha': 0, 'a': -0.425, 'd': 0, 'theta': 0},\n",
    "    {'alpha': 0, 'a': -0.395, 'd': 0, 'theta': 0},\n",
    "    {'alpha': 90, 'a': 0, 'd': 0.102, 'theta': 0},\n",
    "    {'alpha': -90, 'a': 0, 'd': 0.102, 'theta': 0},\n",
    "    {'alpha': 0, 'a': 0, 'd': 0.100, 'theta': 0}\n",
    "]\n",
    "\n",
    "for i in range(len(angle_file)):\n",
    "    with open(os.path.join(angle_path, angle_file[i]), 'r') as file:\n",
    "                data = json.load(file)\n",
    "                \n",
    "    base_coordinate = np.array([[0], \n",
    "                        [0], \n",
    "                        [0], \n",
    "                        [1]])\n",
    "\n",
    "    T_1 = get_transformation_matrix(fr5_dh_parameters[0], data[0])\n",
    "    T_2 = get_transformation_matrix(fr5_dh_parameters[1], data[1])\n",
    "    T_3 = get_transformation_matrix(fr5_dh_parameters[2], data[2])\n",
    "    T_4 = get_transformation_matrix(fr5_dh_parameters[3], data[3])\n",
    "    T_5 = get_transformation_matrix(fr5_dh_parameters[4], data[4])\n",
    "    T_6 = get_transformation_matrix(fr5_dh_parameters[5], data[5])\n",
    "\n",
    "    JOINT_1 = T_1 @ base_coordinate\n",
    "    JOINT_2 = T_1 @ T_2 @ base_coordinate\n",
    "    JOINT_3 = T_1 @ T_2 @ T_3 @ base_coordinate\n",
    "    JOINT_4 = T_1 @ T_2 @ T_3 @ T_4 @ base_coordinate\n",
    "    JOINT_5 = T_1 @ T_2 @ T_3 @ T_4 @ T_5 @ base_coordinate\n",
    "    JOINT_6 = T_1 @ T_2 @ T_3 @ T_4 @ T_5 @ T_6 @ base_coordinate\n",
    "\n",
    "    # json 파일 저장하기\n",
    "    joint_data = [\n",
    "        JOINT_1[:3, 0].tolist(),\n",
    "        JOINT_2[:3, 0].tolist(),\n",
    "        JOINT_3[:3, 0].tolist(),\n",
    "        JOINT_4[:3, 0].tolist(),\n",
    "        JOINT_5[:3, 0].tolist(),\n",
    "        JOINT_6[:3, 0].tolist()\n",
    "    ]\n",
    "\n",
    "    with open(os.path.join(save_path, angle_file[i]), 'w') as file:\n",
    "        json.dump(joint_data, file, indent=4)\n",
    "print(\"DONE\")"
   ]
  },
  {
   "cell_type": "code",
   "execution_count": null,
   "metadata": {},
   "outputs": [],
   "source": []
  }
 ],
 "metadata": {
  "kernelspec": {
   "display_name": "dip",
   "language": "python",
   "name": "python3"
  },
  "language_info": {
   "codemirror_mode": {
    "name": "ipython",
    "version": 3
   },
   "file_extension": ".py",
   "mimetype": "text/x-python",
   "name": "python",
   "nbconvert_exporter": "python",
   "pygments_lexer": "ipython3",
   "version": "3.10.15"
  }
 },
 "nbformat": 4,
 "nbformat_minor": 2
}
